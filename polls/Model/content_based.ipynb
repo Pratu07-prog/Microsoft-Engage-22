{
 "cells": [
  {
   "cell_type": "code",
   "execution_count": 2,
   "metadata": {},
   "outputs": [],
   "source": [
    "import numpy as np\n",
    "import pandas as pd"
   ]
  },
  {
   "cell_type": "code",
   "execution_count": 3,
   "metadata": {},
   "outputs": [
    {
     "ename": "FileNotFoundError",
     "evalue": "[Errno 2] No such file or directory: 'TMDB_10000_Popular_Movies.csv'",
     "output_type": "error",
     "traceback": [
      "\u001b[1;31m---------------------------------------------------------------------------\u001b[0m",
      "\u001b[1;31mFileNotFoundError\u001b[0m                         Traceback (most recent call last)",
      "\u001b[1;32m<ipython-input-3-8e4704908ad2>\u001b[0m in \u001b[0;36m<module>\u001b[1;34m\u001b[0m\n\u001b[1;32m----> 1\u001b[1;33m \u001b[0mmovies\u001b[0m \u001b[1;33m=\u001b[0m \u001b[0mpd\u001b[0m\u001b[1;33m.\u001b[0m\u001b[0mread_csv\u001b[0m\u001b[1;33m(\u001b[0m\u001b[1;34m'TMDB_10000_Popular_Movies.csv'\u001b[0m\u001b[1;33m)\u001b[0m\u001b[1;33m\u001b[0m\u001b[1;33m\u001b[0m\u001b[0m\n\u001b[0m",
      "\u001b[1;32mc:\\Users\\iNDIA\\anaconda3\\lib\\site-packages\\pandas\\io\\parsers.py\u001b[0m in \u001b[0;36mread_csv\u001b[1;34m(filepath_or_buffer, sep, delimiter, header, names, index_col, usecols, squeeze, prefix, mangle_dupe_cols, dtype, engine, converters, true_values, false_values, skipinitialspace, skiprows, skipfooter, nrows, na_values, keep_default_na, na_filter, verbose, skip_blank_lines, parse_dates, infer_datetime_format, keep_date_col, date_parser, dayfirst, cache_dates, iterator, chunksize, compression, thousands, decimal, lineterminator, quotechar, quoting, doublequote, escapechar, comment, encoding, dialect, error_bad_lines, warn_bad_lines, delim_whitespace, low_memory, memory_map, float_precision, storage_options)\u001b[0m\n\u001b[0;32m    608\u001b[0m     \u001b[0mkwds\u001b[0m\u001b[1;33m.\u001b[0m\u001b[0mupdate\u001b[0m\u001b[1;33m(\u001b[0m\u001b[0mkwds_defaults\u001b[0m\u001b[1;33m)\u001b[0m\u001b[1;33m\u001b[0m\u001b[1;33m\u001b[0m\u001b[0m\n\u001b[0;32m    609\u001b[0m \u001b[1;33m\u001b[0m\u001b[0m\n\u001b[1;32m--> 610\u001b[1;33m     \u001b[1;32mreturn\u001b[0m \u001b[0m_read\u001b[0m\u001b[1;33m(\u001b[0m\u001b[0mfilepath_or_buffer\u001b[0m\u001b[1;33m,\u001b[0m \u001b[0mkwds\u001b[0m\u001b[1;33m)\u001b[0m\u001b[1;33m\u001b[0m\u001b[1;33m\u001b[0m\u001b[0m\n\u001b[0m\u001b[0;32m    611\u001b[0m \u001b[1;33m\u001b[0m\u001b[0m\n\u001b[0;32m    612\u001b[0m \u001b[1;33m\u001b[0m\u001b[0m\n",
      "\u001b[1;32mc:\\Users\\iNDIA\\anaconda3\\lib\\site-packages\\pandas\\io\\parsers.py\u001b[0m in \u001b[0;36m_read\u001b[1;34m(filepath_or_buffer, kwds)\u001b[0m\n\u001b[0;32m    460\u001b[0m \u001b[1;33m\u001b[0m\u001b[0m\n\u001b[0;32m    461\u001b[0m     \u001b[1;31m# Create the parser.\u001b[0m\u001b[1;33m\u001b[0m\u001b[1;33m\u001b[0m\u001b[1;33m\u001b[0m\u001b[0m\n\u001b[1;32m--> 462\u001b[1;33m     \u001b[0mparser\u001b[0m \u001b[1;33m=\u001b[0m \u001b[0mTextFileReader\u001b[0m\u001b[1;33m(\u001b[0m\u001b[0mfilepath_or_buffer\u001b[0m\u001b[1;33m,\u001b[0m \u001b[1;33m**\u001b[0m\u001b[0mkwds\u001b[0m\u001b[1;33m)\u001b[0m\u001b[1;33m\u001b[0m\u001b[1;33m\u001b[0m\u001b[0m\n\u001b[0m\u001b[0;32m    463\u001b[0m \u001b[1;33m\u001b[0m\u001b[0m\n\u001b[0;32m    464\u001b[0m     \u001b[1;32mif\u001b[0m \u001b[0mchunksize\u001b[0m \u001b[1;32mor\u001b[0m \u001b[0miterator\u001b[0m\u001b[1;33m:\u001b[0m\u001b[1;33m\u001b[0m\u001b[1;33m\u001b[0m\u001b[0m\n",
      "\u001b[1;32mc:\\Users\\iNDIA\\anaconda3\\lib\\site-packages\\pandas\\io\\parsers.py\u001b[0m in \u001b[0;36m__init__\u001b[1;34m(self, f, engine, **kwds)\u001b[0m\n\u001b[0;32m    817\u001b[0m             \u001b[0mself\u001b[0m\u001b[1;33m.\u001b[0m\u001b[0moptions\u001b[0m\u001b[1;33m[\u001b[0m\u001b[1;34m\"has_index_names\"\u001b[0m\u001b[1;33m]\u001b[0m \u001b[1;33m=\u001b[0m \u001b[0mkwds\u001b[0m\u001b[1;33m[\u001b[0m\u001b[1;34m\"has_index_names\"\u001b[0m\u001b[1;33m]\u001b[0m\u001b[1;33m\u001b[0m\u001b[1;33m\u001b[0m\u001b[0m\n\u001b[0;32m    818\u001b[0m \u001b[1;33m\u001b[0m\u001b[0m\n\u001b[1;32m--> 819\u001b[1;33m         \u001b[0mself\u001b[0m\u001b[1;33m.\u001b[0m\u001b[0m_engine\u001b[0m \u001b[1;33m=\u001b[0m \u001b[0mself\u001b[0m\u001b[1;33m.\u001b[0m\u001b[0m_make_engine\u001b[0m\u001b[1;33m(\u001b[0m\u001b[0mself\u001b[0m\u001b[1;33m.\u001b[0m\u001b[0mengine\u001b[0m\u001b[1;33m)\u001b[0m\u001b[1;33m\u001b[0m\u001b[1;33m\u001b[0m\u001b[0m\n\u001b[0m\u001b[0;32m    820\u001b[0m \u001b[1;33m\u001b[0m\u001b[0m\n\u001b[0;32m    821\u001b[0m     \u001b[1;32mdef\u001b[0m \u001b[0mclose\u001b[0m\u001b[1;33m(\u001b[0m\u001b[0mself\u001b[0m\u001b[1;33m)\u001b[0m\u001b[1;33m:\u001b[0m\u001b[1;33m\u001b[0m\u001b[1;33m\u001b[0m\u001b[0m\n",
      "\u001b[1;32mc:\\Users\\iNDIA\\anaconda3\\lib\\site-packages\\pandas\\io\\parsers.py\u001b[0m in \u001b[0;36m_make_engine\u001b[1;34m(self, engine)\u001b[0m\n\u001b[0;32m   1048\u001b[0m             )\n\u001b[0;32m   1049\u001b[0m         \u001b[1;31m# error: Too many arguments for \"ParserBase\"\u001b[0m\u001b[1;33m\u001b[0m\u001b[1;33m\u001b[0m\u001b[1;33m\u001b[0m\u001b[0m\n\u001b[1;32m-> 1050\u001b[1;33m         \u001b[1;32mreturn\u001b[0m \u001b[0mmapping\u001b[0m\u001b[1;33m[\u001b[0m\u001b[0mengine\u001b[0m\u001b[1;33m]\u001b[0m\u001b[1;33m(\u001b[0m\u001b[0mself\u001b[0m\u001b[1;33m.\u001b[0m\u001b[0mf\u001b[0m\u001b[1;33m,\u001b[0m \u001b[1;33m**\u001b[0m\u001b[0mself\u001b[0m\u001b[1;33m.\u001b[0m\u001b[0moptions\u001b[0m\u001b[1;33m)\u001b[0m  \u001b[1;31m# type: ignore[call-arg]\u001b[0m\u001b[1;33m\u001b[0m\u001b[1;33m\u001b[0m\u001b[0m\n\u001b[0m\u001b[0;32m   1051\u001b[0m \u001b[1;33m\u001b[0m\u001b[0m\n\u001b[0;32m   1052\u001b[0m     \u001b[1;32mdef\u001b[0m \u001b[0m_failover_to_python\u001b[0m\u001b[1;33m(\u001b[0m\u001b[0mself\u001b[0m\u001b[1;33m)\u001b[0m\u001b[1;33m:\u001b[0m\u001b[1;33m\u001b[0m\u001b[1;33m\u001b[0m\u001b[0m\n",
      "\u001b[1;32mc:\\Users\\iNDIA\\anaconda3\\lib\\site-packages\\pandas\\io\\parsers.py\u001b[0m in \u001b[0;36m__init__\u001b[1;34m(self, src, **kwds)\u001b[0m\n\u001b[0;32m   1865\u001b[0m \u001b[1;33m\u001b[0m\u001b[0m\n\u001b[0;32m   1866\u001b[0m         \u001b[1;31m# open handles\u001b[0m\u001b[1;33m\u001b[0m\u001b[1;33m\u001b[0m\u001b[1;33m\u001b[0m\u001b[0m\n\u001b[1;32m-> 1867\u001b[1;33m         \u001b[0mself\u001b[0m\u001b[1;33m.\u001b[0m\u001b[0m_open_handles\u001b[0m\u001b[1;33m(\u001b[0m\u001b[0msrc\u001b[0m\u001b[1;33m,\u001b[0m \u001b[0mkwds\u001b[0m\u001b[1;33m)\u001b[0m\u001b[1;33m\u001b[0m\u001b[1;33m\u001b[0m\u001b[0m\n\u001b[0m\u001b[0;32m   1868\u001b[0m         \u001b[1;32massert\u001b[0m \u001b[0mself\u001b[0m\u001b[1;33m.\u001b[0m\u001b[0mhandles\u001b[0m \u001b[1;32mis\u001b[0m \u001b[1;32mnot\u001b[0m \u001b[1;32mNone\u001b[0m\u001b[1;33m\u001b[0m\u001b[1;33m\u001b[0m\u001b[0m\n\u001b[0;32m   1869\u001b[0m         \u001b[1;32mfor\u001b[0m \u001b[0mkey\u001b[0m \u001b[1;32min\u001b[0m \u001b[1;33m(\u001b[0m\u001b[1;34m\"storage_options\"\u001b[0m\u001b[1;33m,\u001b[0m \u001b[1;34m\"encoding\"\u001b[0m\u001b[1;33m,\u001b[0m \u001b[1;34m\"memory_map\"\u001b[0m\u001b[1;33m,\u001b[0m \u001b[1;34m\"compression\"\u001b[0m\u001b[1;33m)\u001b[0m\u001b[1;33m:\u001b[0m\u001b[1;33m\u001b[0m\u001b[1;33m\u001b[0m\u001b[0m\n",
      "\u001b[1;32mc:\\Users\\iNDIA\\anaconda3\\lib\\site-packages\\pandas\\io\\parsers.py\u001b[0m in \u001b[0;36m_open_handles\u001b[1;34m(self, src, kwds)\u001b[0m\n\u001b[0;32m   1360\u001b[0m         \u001b[0mLet\u001b[0m \u001b[0mthe\u001b[0m \u001b[0mreaders\u001b[0m \u001b[0mopen\u001b[0m \u001b[0mIOHanldes\u001b[0m \u001b[0mafter\u001b[0m \u001b[0mthey\u001b[0m \u001b[0mare\u001b[0m \u001b[0mdone\u001b[0m \u001b[1;32mwith\u001b[0m \u001b[0mtheir\u001b[0m \u001b[0mpotential\u001b[0m \u001b[0mraises\u001b[0m\u001b[1;33m.\u001b[0m\u001b[1;33m\u001b[0m\u001b[1;33m\u001b[0m\u001b[0m\n\u001b[0;32m   1361\u001b[0m         \"\"\"\n\u001b[1;32m-> 1362\u001b[1;33m         self.handles = get_handle(\n\u001b[0m\u001b[0;32m   1363\u001b[0m             \u001b[0msrc\u001b[0m\u001b[1;33m,\u001b[0m\u001b[1;33m\u001b[0m\u001b[1;33m\u001b[0m\u001b[0m\n\u001b[0;32m   1364\u001b[0m             \u001b[1;34m\"r\"\u001b[0m\u001b[1;33m,\u001b[0m\u001b[1;33m\u001b[0m\u001b[1;33m\u001b[0m\u001b[0m\n",
      "\u001b[1;32mc:\\Users\\iNDIA\\anaconda3\\lib\\site-packages\\pandas\\io\\common.py\u001b[0m in \u001b[0;36mget_handle\u001b[1;34m(path_or_buf, mode, encoding, compression, memory_map, is_text, errors, storage_options)\u001b[0m\n\u001b[0;32m    640\u001b[0m                 \u001b[0merrors\u001b[0m \u001b[1;33m=\u001b[0m \u001b[1;34m\"replace\"\u001b[0m\u001b[1;33m\u001b[0m\u001b[1;33m\u001b[0m\u001b[0m\n\u001b[0;32m    641\u001b[0m             \u001b[1;31m# Encoding\u001b[0m\u001b[1;33m\u001b[0m\u001b[1;33m\u001b[0m\u001b[1;33m\u001b[0m\u001b[0m\n\u001b[1;32m--> 642\u001b[1;33m             handle = open(\n\u001b[0m\u001b[0;32m    643\u001b[0m                 \u001b[0mhandle\u001b[0m\u001b[1;33m,\u001b[0m\u001b[1;33m\u001b[0m\u001b[1;33m\u001b[0m\u001b[0m\n\u001b[0;32m    644\u001b[0m                 \u001b[0mioargs\u001b[0m\u001b[1;33m.\u001b[0m\u001b[0mmode\u001b[0m\u001b[1;33m,\u001b[0m\u001b[1;33m\u001b[0m\u001b[1;33m\u001b[0m\u001b[0m\n",
      "\u001b[1;31mFileNotFoundError\u001b[0m: [Errno 2] No such file or directory: 'TMDB_10000_Popular_Movies.csv'"
     ]
    }
   ],
   "source": [
    "movies = pd.read_csv('TMDB_10000_Popular_Movies.csv')"
   ]
  },
  {
   "cell_type": "code",
   "execution_count": 4,
   "metadata": {},
   "outputs": [],
   "source": [
    "movies.dropna(inplace=True)"
   ]
  },
  {
   "cell_type": "code",
   "execution_count": 5,
   "metadata": {},
   "outputs": [
    {
     "data": {
      "text/plain": [
       "'Drama | Science Fiction'"
      ]
     },
     "execution_count": 5,
     "metadata": {},
     "output_type": "execute_result"
    }
   ],
   "source": [
    "movies.iloc[0].Genres"
   ]
  },
  {
   "cell_type": "code",
   "execution_count": 6,
   "metadata": {},
   "outputs": [],
   "source": [
    "def convert(obj):\n",
    "    L = []\n",
    "    L = obj.split(\" | \")\n",
    "    return L"
   ]
  },
  {
   "cell_type": "code",
   "execution_count": 7,
   "metadata": {},
   "outputs": [],
   "source": [
    "movies['Genres'] = movies['Genres'].apply(convert)"
   ]
  },
  {
   "cell_type": "code",
   "execution_count": 8,
   "metadata": {},
   "outputs": [],
   "source": [
    "def convert3(obj):\n",
    "    L = []\n",
    "    L = obj.split(\" | \")\n",
    "    n = len(L)\n",
    "    del L[4:n-1]\n",
    "    return L"
   ]
  },
  {
   "cell_type": "code",
   "execution_count": 9,
   "metadata": {},
   "outputs": [],
   "source": [
    "movies['Cast'] = movies['Cast'].apply(convert3)"
   ]
  },
  {
   "cell_type": "code",
   "execution_count": 47,
   "metadata": {},
   "outputs": [],
   "source": [
    "# Data we need for our system\n",
    "# 1 TMDb_Id\n",
    "# 2 Title\n",
    "# 3 Overview\n",
    "# 4 Genres\n",
    "# 5 Cast\n",
    "# 6 Crew\n",
    "# 7 Popularity\n",
    "# 8 Rating_avg\n",
    "# 9 Rating_count\n",
    "\n",
    "movies = movies[['TMDb_Id','Title', 'Overview', 'Genres', 'Cast', 'Rating_average', 'Rating_Count', 'Production_Companies']]"
   ]
  },
  {
   "cell_type": "code",
   "execution_count": 48,
   "metadata": {},
   "outputs": [
    {
     "data": {
      "text/html": [
       "<div>\n",
       "<style scoped>\n",
       "    .dataframe tbody tr th:only-of-type {\n",
       "        vertical-align: middle;\n",
       "    }\n",
       "\n",
       "    .dataframe tbody tr th {\n",
       "        vertical-align: top;\n",
       "    }\n",
       "\n",
       "    .dataframe thead th {\n",
       "        text-align: right;\n",
       "    }\n",
       "</style>\n",
       "<table border=\"1\" class=\"dataframe\">\n",
       "  <thead>\n",
       "    <tr style=\"text-align: right;\">\n",
       "      <th></th>\n",
       "      <th>TMDb_Id</th>\n",
       "      <th>Title</th>\n",
       "      <th>Overview</th>\n",
       "      <th>Genres</th>\n",
       "      <th>Cast</th>\n",
       "      <th>Rating_average</th>\n",
       "      <th>Rating_Count</th>\n",
       "      <th>Production_Companies</th>\n",
       "    </tr>\n",
       "  </thead>\n",
       "  <tbody>\n",
       "    <tr>\n",
       "      <th>0</th>\n",
       "      <td>419704</td>\n",
       "      <td>Ad Astra</td>\n",
       "      <td>[The, near, future,, a, time, when, both, hope...</td>\n",
       "      <td>[Drama, ScienceFiction]</td>\n",
       "      <td>[BradPitt, TommyLeeJones, RuthNegga, JohnOrtiz...</td>\n",
       "      <td>5.9</td>\n",
       "      <td>2863</td>\n",
       "      <td>[NewRegencyProductions, KeepYourHead, MadRiver...</td>\n",
       "    </tr>\n",
       "    <tr>\n",
       "      <th>1</th>\n",
       "      <td>338762</td>\n",
       "      <td>Bloodshot</td>\n",
       "      <td>[After, he, and, his, wife, are, murdered,, ma...</td>\n",
       "      <td>[Action, ScienceFiction]</td>\n",
       "      <td>[VinDiesel, EizaGonzález, SamHeughan, TobyKebb...</td>\n",
       "      <td>7.2</td>\n",
       "      <td>1384</td>\n",
       "      <td>[SonyPictures, CrossCreekPictures, MimranSchur...</td>\n",
       "    </tr>\n",
       "    <tr>\n",
       "      <th>2</th>\n",
       "      <td>38700</td>\n",
       "      <td>Bad Boys for Life</td>\n",
       "      <td>[Marcus, and, Mike, are, forced, to, confront,...</td>\n",
       "      <td>[Action, Crime, Thriller]</td>\n",
       "      <td>[WillSmith, MartinLawrence, PaolaNuñez, Vaness...</td>\n",
       "      <td>7.1</td>\n",
       "      <td>2596</td>\n",
       "      <td>[ColumbiaPictures, PlatinumDunes, 2.0Entertain...</td>\n",
       "    </tr>\n",
       "    <tr>\n",
       "      <th>3</th>\n",
       "      <td>102899</td>\n",
       "      <td>Ant-Man</td>\n",
       "      <td>[Armed, with, the, astonishing, ability, to, s...</td>\n",
       "      <td>[Action, Adventure, ScienceFiction]</td>\n",
       "      <td>[PaulRudd, MichaelDouglas, EvangelineLilly, Co...</td>\n",
       "      <td>7.1</td>\n",
       "      <td>13625</td>\n",
       "      <td>[MarvelStudios]</td>\n",
       "    </tr>\n",
       "    <tr>\n",
       "      <th>4</th>\n",
       "      <td>76285</td>\n",
       "      <td>Percy Jackson: Sea of Monsters</td>\n",
       "      <td>[In, their, quest, to, confront, the, ultimate...</td>\n",
       "      <td>[Adventure, Fantasy, Family]</td>\n",
       "      <td>[LoganLerman, AlexandraDaddario, DouglasSmith,...</td>\n",
       "      <td>5.9</td>\n",
       "      <td>3547</td>\n",
       "      <td>[Fox2000Pictures, SunsweptEntertainment, 1492P...</td>\n",
       "    </tr>\n",
       "  </tbody>\n",
       "</table>\n",
       "</div>"
      ],
      "text/plain": [
       "   TMDb_Id                           Title  \\\n",
       "0   419704                        Ad Astra   \n",
       "1   338762                       Bloodshot   \n",
       "2    38700               Bad Boys for Life   \n",
       "3   102899                         Ant-Man   \n",
       "4    76285  Percy Jackson: Sea of Monsters   \n",
       "\n",
       "                                            Overview  \\\n",
       "0  [The, near, future,, a, time, when, both, hope...   \n",
       "1  [After, he, and, his, wife, are, murdered,, ma...   \n",
       "2  [Marcus, and, Mike, are, forced, to, confront,...   \n",
       "3  [Armed, with, the, astonishing, ability, to, s...   \n",
       "4  [In, their, quest, to, confront, the, ultimate...   \n",
       "\n",
       "                                Genres  \\\n",
       "0              [Drama, ScienceFiction]   \n",
       "1             [Action, ScienceFiction]   \n",
       "2            [Action, Crime, Thriller]   \n",
       "3  [Action, Adventure, ScienceFiction]   \n",
       "4         [Adventure, Fantasy, Family]   \n",
       "\n",
       "                                                Cast  Rating_average  \\\n",
       "0  [BradPitt, TommyLeeJones, RuthNegga, JohnOrtiz...             5.9   \n",
       "1  [VinDiesel, EizaGonzález, SamHeughan, TobyKebb...             7.2   \n",
       "2  [WillSmith, MartinLawrence, PaolaNuñez, Vaness...             7.1   \n",
       "3  [PaulRudd, MichaelDouglas, EvangelineLilly, Co...             7.1   \n",
       "4  [LoganLerman, AlexandraDaddario, DouglasSmith,...             5.9   \n",
       "\n",
       "   Rating_Count                               Production_Companies  \n",
       "0          2863  [NewRegencyProductions, KeepYourHead, MadRiver...  \n",
       "1          1384  [SonyPictures, CrossCreekPictures, MimranSchur...  \n",
       "2          2596  [ColumbiaPictures, PlatinumDunes, 2.0Entertain...  \n",
       "3         13625                                    [MarvelStudios]  \n",
       "4          3547  [Fox2000Pictures, SunsweptEntertainment, 1492P...  "
      ]
     },
     "execution_count": 48,
     "metadata": {},
     "output_type": "execute_result"
    }
   ],
   "source": [
    "movies.head()"
   ]
  },
  {
   "cell_type": "code",
   "execution_count": 13,
   "metadata": {},
   "outputs": [],
   "source": [
    "movies['Production_Companies'] = movies['Production_Companies'].apply(convert)"
   ]
  },
  {
   "cell_type": "code",
   "execution_count": 14,
   "metadata": {},
   "outputs": [
    {
     "data": {
      "text/plain": [
       "'The near future, a time when both hope and hardships drive humanity to look to the stars and beyond. While a mysterious phenomenon menaces to destroy life on planet Earth, astronaut Roy McBride undertakes a mission across the immensity of space and its many perils to uncover the truth about a lost expedition that decades before boldly faced emptiness and silence in search of the unknown.'"
      ]
     },
     "execution_count": 14,
     "metadata": {},
     "output_type": "execute_result"
    }
   ],
   "source": [
    "movies['Overview'][0]"
   ]
  },
  {
   "cell_type": "code",
   "execution_count": 15,
   "metadata": {},
   "outputs": [],
   "source": [
    "movies['Overview'] = movies['Overview'].apply(lambda x:x.split())"
   ]
  },
  {
   "cell_type": "code",
   "execution_count": 16,
   "metadata": {},
   "outputs": [],
   "source": [
    "movies['Genres'] = movies['Genres'].apply(lambda x:[i.replace(\" \",\"\") for i in x])"
   ]
  },
  {
   "cell_type": "code",
   "execution_count": 17,
   "metadata": {},
   "outputs": [],
   "source": [
    "movies['Cast'] = movies['Cast'].apply(lambda x:[i.replace(\" \",\"\") for i in x])\n",
    "movies['Production_Companies'] = movies['Production_Companies'].apply(lambda x:[i.replace(\" \",\"\") for i in x])"
   ]
  },
  {
   "cell_type": "code",
   "execution_count": 18,
   "metadata": {},
   "outputs": [],
   "source": [
    "movies['tags'] = movies['Overview'] + movies['Genres'] + movies['Cast'] + movies['Production_Companies']"
   ]
  },
  {
   "cell_type": "code",
   "execution_count": 19,
   "metadata": {},
   "outputs": [
    {
     "data": {
      "text/html": [
       "<div>\n",
       "<style scoped>\n",
       "    .dataframe tbody tr th:only-of-type {\n",
       "        vertical-align: middle;\n",
       "    }\n",
       "\n",
       "    .dataframe tbody tr th {\n",
       "        vertical-align: top;\n",
       "    }\n",
       "\n",
       "    .dataframe thead th {\n",
       "        text-align: right;\n",
       "    }\n",
       "</style>\n",
       "<table border=\"1\" class=\"dataframe\">\n",
       "  <thead>\n",
       "    <tr style=\"text-align: right;\">\n",
       "      <th></th>\n",
       "      <th>TMDb_Id</th>\n",
       "      <th>Title</th>\n",
       "      <th>Overview</th>\n",
       "      <th>Genres</th>\n",
       "      <th>Cast</th>\n",
       "      <th>Popularity</th>\n",
       "      <th>Rating_average</th>\n",
       "      <th>Rating_Count</th>\n",
       "      <th>Production_Companies</th>\n",
       "      <th>tags</th>\n",
       "    </tr>\n",
       "  </thead>\n",
       "  <tbody>\n",
       "    <tr>\n",
       "      <th>0</th>\n",
       "      <td>419704</td>\n",
       "      <td>Ad Astra</td>\n",
       "      <td>[The, near, future,, a, time, when, both, hope...</td>\n",
       "      <td>[Drama, ScienceFiction]</td>\n",
       "      <td>[BradPitt, TommyLeeJones, RuthNegga, JohnOrtiz...</td>\n",
       "      <td>463.487</td>\n",
       "      <td>5.9</td>\n",
       "      <td>2863</td>\n",
       "      <td>[NewRegencyProductions, KeepYourHead, MadRiver...</td>\n",
       "      <td>[The, near, future,, a, time, when, both, hope...</td>\n",
       "    </tr>\n",
       "    <tr>\n",
       "      <th>1</th>\n",
       "      <td>338762</td>\n",
       "      <td>Bloodshot</td>\n",
       "      <td>[After, he, and, his, wife, are, murdered,, ma...</td>\n",
       "      <td>[Action, ScienceFiction]</td>\n",
       "      <td>[VinDiesel, EizaGonzález, SamHeughan, TobyKebb...</td>\n",
       "      <td>235.701</td>\n",
       "      <td>7.2</td>\n",
       "      <td>1384</td>\n",
       "      <td>[SonyPictures, CrossCreekPictures, MimranSchur...</td>\n",
       "      <td>[After, he, and, his, wife, are, murdered,, ma...</td>\n",
       "    </tr>\n",
       "    <tr>\n",
       "      <th>2</th>\n",
       "      <td>38700</td>\n",
       "      <td>Bad Boys for Life</td>\n",
       "      <td>[Marcus, and, Mike, are, forced, to, confront,...</td>\n",
       "      <td>[Action, Crime, Thriller]</td>\n",
       "      <td>[WillSmith, MartinLawrence, PaolaNuñez, Vaness...</td>\n",
       "      <td>255.068</td>\n",
       "      <td>7.1</td>\n",
       "      <td>2596</td>\n",
       "      <td>[ColumbiaPictures, PlatinumDunes, 2.0Entertain...</td>\n",
       "      <td>[Marcus, and, Mike, are, forced, to, confront,...</td>\n",
       "    </tr>\n",
       "    <tr>\n",
       "      <th>3</th>\n",
       "      <td>102899</td>\n",
       "      <td>Ant-Man</td>\n",
       "      <td>[Armed, with, the, astonishing, ability, to, s...</td>\n",
       "      <td>[Action, Adventure, ScienceFiction]</td>\n",
       "      <td>[PaulRudd, MichaelDouglas, EvangelineLilly, Co...</td>\n",
       "      <td>134.294</td>\n",
       "      <td>7.1</td>\n",
       "      <td>13625</td>\n",
       "      <td>[MarvelStudios]</td>\n",
       "      <td>[Armed, with, the, astonishing, ability, to, s...</td>\n",
       "    </tr>\n",
       "    <tr>\n",
       "      <th>4</th>\n",
       "      <td>76285</td>\n",
       "      <td>Percy Jackson: Sea of Monsters</td>\n",
       "      <td>[In, their, quest, to, confront, the, ultimate...</td>\n",
       "      <td>[Adventure, Fantasy, Family]</td>\n",
       "      <td>[LoganLerman, AlexandraDaddario, DouglasSmith,...</td>\n",
       "      <td>124.417</td>\n",
       "      <td>5.9</td>\n",
       "      <td>3547</td>\n",
       "      <td>[Fox2000Pictures, SunsweptEntertainment, 1492P...</td>\n",
       "      <td>[In, their, quest, to, confront, the, ultimate...</td>\n",
       "    </tr>\n",
       "  </tbody>\n",
       "</table>\n",
       "</div>"
      ],
      "text/plain": [
       "   TMDb_Id                           Title  \\\n",
       "0   419704                        Ad Astra   \n",
       "1   338762                       Bloodshot   \n",
       "2    38700               Bad Boys for Life   \n",
       "3   102899                         Ant-Man   \n",
       "4    76285  Percy Jackson: Sea of Monsters   \n",
       "\n",
       "                                            Overview  \\\n",
       "0  [The, near, future,, a, time, when, both, hope...   \n",
       "1  [After, he, and, his, wife, are, murdered,, ma...   \n",
       "2  [Marcus, and, Mike, are, forced, to, confront,...   \n",
       "3  [Armed, with, the, astonishing, ability, to, s...   \n",
       "4  [In, their, quest, to, confront, the, ultimate...   \n",
       "\n",
       "                                Genres  \\\n",
       "0              [Drama, ScienceFiction]   \n",
       "1             [Action, ScienceFiction]   \n",
       "2            [Action, Crime, Thriller]   \n",
       "3  [Action, Adventure, ScienceFiction]   \n",
       "4         [Adventure, Fantasy, Family]   \n",
       "\n",
       "                                                Cast  Popularity  \\\n",
       "0  [BradPitt, TommyLeeJones, RuthNegga, JohnOrtiz...     463.487   \n",
       "1  [VinDiesel, EizaGonzález, SamHeughan, TobyKebb...     235.701   \n",
       "2  [WillSmith, MartinLawrence, PaolaNuñez, Vaness...     255.068   \n",
       "3  [PaulRudd, MichaelDouglas, EvangelineLilly, Co...     134.294   \n",
       "4  [LoganLerman, AlexandraDaddario, DouglasSmith,...     124.417   \n",
       "\n",
       "   Rating_average  Rating_Count  \\\n",
       "0             5.9          2863   \n",
       "1             7.2          1384   \n",
       "2             7.1          2596   \n",
       "3             7.1         13625   \n",
       "4             5.9          3547   \n",
       "\n",
       "                                Production_Companies  \\\n",
       "0  [NewRegencyProductions, KeepYourHead, MadRiver...   \n",
       "1  [SonyPictures, CrossCreekPictures, MimranSchur...   \n",
       "2  [ColumbiaPictures, PlatinumDunes, 2.0Entertain...   \n",
       "3                                    [MarvelStudios]   \n",
       "4  [Fox2000Pictures, SunsweptEntertainment, 1492P...   \n",
       "\n",
       "                                                tags  \n",
       "0  [The, near, future,, a, time, when, both, hope...  \n",
       "1  [After, he, and, his, wife, are, murdered,, ma...  \n",
       "2  [Marcus, and, Mike, are, forced, to, confront,...  \n",
       "3  [Armed, with, the, astonishing, ability, to, s...  \n",
       "4  [In, their, quest, to, confront, the, ultimate...  "
      ]
     },
     "execution_count": 19,
     "metadata": {},
     "output_type": "execute_result"
    }
   ],
   "source": [
    "movies.head()"
   ]
  },
  {
   "cell_type": "code",
   "execution_count": 20,
   "metadata": {},
   "outputs": [],
   "source": [
    "movies['tags'] = movies['tags'].apply(lambda x:\" \".join(x))"
   ]
  },
  {
   "cell_type": "code",
   "execution_count": 21,
   "metadata": {},
   "outputs": [],
   "source": [
    "movies['tags'] = movies['tags'].apply(lambda x:x.lower())"
   ]
  },
  {
   "cell_type": "code",
   "execution_count": 22,
   "metadata": {},
   "outputs": [],
   "source": [
    "import nltk"
   ]
  },
  {
   "cell_type": "code",
   "execution_count": 23,
   "metadata": {},
   "outputs": [],
   "source": [
    "from nltk.stem.porter import PorterStemmer\n",
    "ps = PorterStemmer()"
   ]
  },
  {
   "cell_type": "code",
   "execution_count": 24,
   "metadata": {},
   "outputs": [],
   "source": [
    "def stem(text):\n",
    "    y = []\n",
    "    for i in text.split():\n",
    "        y.append(ps.stem(i))\n",
    "    \n",
    "    return \" \".join(y)"
   ]
  },
  {
   "cell_type": "code",
   "execution_count": 25,
   "metadata": {},
   "outputs": [],
   "source": [
    "movies['tags'] = movies['tags'].apply(stem)"
   ]
  },
  {
   "cell_type": "code",
   "execution_count": 50,
   "metadata": {},
   "outputs": [
    {
     "name": "stderr",
     "output_type": "stream",
     "text": [
      "<ipython-input-50-d62d7c54c3e1>:4: SettingWithCopyWarning: \n",
      "A value is trying to be set on a copy of a slice from a DataFrame.\n",
      "Try using .loc[row_indexer,col_indexer] = value instead\n",
      "\n",
      "See the caveats in the documentation: https://pandas.pydata.org/pandas-docs/stable/user_guide/indexing.html#returning-a-view-versus-a-copy\n",
      "  movies['bayes'] = ((movies['Rating_average'] * movies['Rating_Count']) + (350)) / (movies['Rating_Count'] * 100)\n"
     ]
    }
   ],
   "source": [
    "# Baysian average with C=100 and m=3.5\n",
    "# BA =  (Rating_avg*Rating_cnt)+(100*3.5) / (rating_cnt*100) \n",
    "\n",
    "movies['bayes'] = ((movies['Rating_average'] * movies['Rating_Count']) + (350)) / (movies['Rating_Count'] * 100)"
   ]
  },
  {
   "cell_type": "code",
   "execution_count": 51,
   "metadata": {},
   "outputs": [
    {
     "data": {
      "text/html": [
       "<div>\n",
       "<style scoped>\n",
       "    .dataframe tbody tr th:only-of-type {\n",
       "        vertical-align: middle;\n",
       "    }\n",
       "\n",
       "    .dataframe tbody tr th {\n",
       "        vertical-align: top;\n",
       "    }\n",
       "\n",
       "    .dataframe thead th {\n",
       "        text-align: right;\n",
       "    }\n",
       "</style>\n",
       "<table border=\"1\" class=\"dataframe\">\n",
       "  <thead>\n",
       "    <tr style=\"text-align: right;\">\n",
       "      <th></th>\n",
       "      <th>TMDb_Id</th>\n",
       "      <th>Title</th>\n",
       "      <th>Overview</th>\n",
       "      <th>Genres</th>\n",
       "      <th>Cast</th>\n",
       "      <th>Rating_average</th>\n",
       "      <th>Rating_Count</th>\n",
       "      <th>Production_Companies</th>\n",
       "      <th>bayes</th>\n",
       "    </tr>\n",
       "  </thead>\n",
       "  <tbody>\n",
       "    <tr>\n",
       "      <th>0</th>\n",
       "      <td>419704</td>\n",
       "      <td>Ad Astra</td>\n",
       "      <td>[The, near, future,, a, time, when, both, hope...</td>\n",
       "      <td>[Drama, ScienceFiction]</td>\n",
       "      <td>[BradPitt, TommyLeeJones, RuthNegga, JohnOrtiz...</td>\n",
       "      <td>5.9</td>\n",
       "      <td>2863</td>\n",
       "      <td>[NewRegencyProductions, KeepYourHead, MadRiver...</td>\n",
       "      <td>0.060222</td>\n",
       "    </tr>\n",
       "    <tr>\n",
       "      <th>1</th>\n",
       "      <td>338762</td>\n",
       "      <td>Bloodshot</td>\n",
       "      <td>[After, he, and, his, wife, are, murdered,, ma...</td>\n",
       "      <td>[Action, ScienceFiction]</td>\n",
       "      <td>[VinDiesel, EizaGonzález, SamHeughan, TobyKebb...</td>\n",
       "      <td>7.2</td>\n",
       "      <td>1384</td>\n",
       "      <td>[SonyPictures, CrossCreekPictures, MimranSchur...</td>\n",
       "      <td>0.074529</td>\n",
       "    </tr>\n",
       "    <tr>\n",
       "      <th>2</th>\n",
       "      <td>38700</td>\n",
       "      <td>Bad Boys for Life</td>\n",
       "      <td>[Marcus, and, Mike, are, forced, to, confront,...</td>\n",
       "      <td>[Action, Crime, Thriller]</td>\n",
       "      <td>[WillSmith, MartinLawrence, PaolaNuñez, Vaness...</td>\n",
       "      <td>7.1</td>\n",
       "      <td>2596</td>\n",
       "      <td>[ColumbiaPictures, PlatinumDunes, 2.0Entertain...</td>\n",
       "      <td>0.072348</td>\n",
       "    </tr>\n",
       "    <tr>\n",
       "      <th>3</th>\n",
       "      <td>102899</td>\n",
       "      <td>Ant-Man</td>\n",
       "      <td>[Armed, with, the, astonishing, ability, to, s...</td>\n",
       "      <td>[Action, Adventure, ScienceFiction]</td>\n",
       "      <td>[PaulRudd, MichaelDouglas, EvangelineLilly, Co...</td>\n",
       "      <td>7.1</td>\n",
       "      <td>13625</td>\n",
       "      <td>[MarvelStudios]</td>\n",
       "      <td>0.071257</td>\n",
       "    </tr>\n",
       "    <tr>\n",
       "      <th>4</th>\n",
       "      <td>76285</td>\n",
       "      <td>Percy Jackson: Sea of Monsters</td>\n",
       "      <td>[In, their, quest, to, confront, the, ultimate...</td>\n",
       "      <td>[Adventure, Fantasy, Family]</td>\n",
       "      <td>[LoganLerman, AlexandraDaddario, DouglasSmith,...</td>\n",
       "      <td>5.9</td>\n",
       "      <td>3547</td>\n",
       "      <td>[Fox2000Pictures, SunsweptEntertainment, 1492P...</td>\n",
       "      <td>0.059987</td>\n",
       "    </tr>\n",
       "  </tbody>\n",
       "</table>\n",
       "</div>"
      ],
      "text/plain": [
       "   TMDb_Id                           Title  \\\n",
       "0   419704                        Ad Astra   \n",
       "1   338762                       Bloodshot   \n",
       "2    38700               Bad Boys for Life   \n",
       "3   102899                         Ant-Man   \n",
       "4    76285  Percy Jackson: Sea of Monsters   \n",
       "\n",
       "                                            Overview  \\\n",
       "0  [The, near, future,, a, time, when, both, hope...   \n",
       "1  [After, he, and, his, wife, are, murdered,, ma...   \n",
       "2  [Marcus, and, Mike, are, forced, to, confront,...   \n",
       "3  [Armed, with, the, astonishing, ability, to, s...   \n",
       "4  [In, their, quest, to, confront, the, ultimate...   \n",
       "\n",
       "                                Genres  \\\n",
       "0              [Drama, ScienceFiction]   \n",
       "1             [Action, ScienceFiction]   \n",
       "2            [Action, Crime, Thriller]   \n",
       "3  [Action, Adventure, ScienceFiction]   \n",
       "4         [Adventure, Fantasy, Family]   \n",
       "\n",
       "                                                Cast  Rating_average  \\\n",
       "0  [BradPitt, TommyLeeJones, RuthNegga, JohnOrtiz...             5.9   \n",
       "1  [VinDiesel, EizaGonzález, SamHeughan, TobyKebb...             7.2   \n",
       "2  [WillSmith, MartinLawrence, PaolaNuñez, Vaness...             7.1   \n",
       "3  [PaulRudd, MichaelDouglas, EvangelineLilly, Co...             7.1   \n",
       "4  [LoganLerman, AlexandraDaddario, DouglasSmith,...             5.9   \n",
       "\n",
       "   Rating_Count                               Production_Companies     bayes  \n",
       "0          2863  [NewRegencyProductions, KeepYourHead, MadRiver...  0.060222  \n",
       "1          1384  [SonyPictures, CrossCreekPictures, MimranSchur...  0.074529  \n",
       "2          2596  [ColumbiaPictures, PlatinumDunes, 2.0Entertain...  0.072348  \n",
       "3         13625                                    [MarvelStudios]  0.071257  \n",
       "4          3547  [Fox2000Pictures, SunsweptEntertainment, 1492P...  0.059987  "
      ]
     },
     "execution_count": 51,
     "metadata": {},
     "output_type": "execute_result"
    }
   ],
   "source": [
    "movies.head()"
   ]
  },
  {
   "cell_type": "code",
   "execution_count": 1,
   "metadata": {},
   "outputs": [
    {
     "ename": "NameError",
     "evalue": "name 'movies' is not defined",
     "output_type": "error",
     "traceback": [
      "\u001b[1;31m---------------------------------------------------------------------------\u001b[0m",
      "\u001b[1;31mNameError\u001b[0m                                 Traceback (most recent call last)",
      "\u001b[1;32m<ipython-input-1-3b7f2712f416>\u001b[0m in \u001b[0;36m<module>\u001b[1;34m\u001b[0m\n\u001b[1;32m----> 1\u001b[1;33m \u001b[0mmovies\u001b[0m\u001b[1;33m[\u001b[0m\u001b[1;34m'tags'\u001b[0m\u001b[1;33m]\u001b[0m\u001b[1;33m\u001b[0m\u001b[1;33m\u001b[0m\u001b[0m\n\u001b[0m",
      "\u001b[1;31mNameError\u001b[0m: name 'movies' is not defined"
     ]
    }
   ],
   "source": [
    "movies['tags']"
   ]
  },
  {
   "cell_type": "code",
   "execution_count": 26,
   "metadata": {},
   "outputs": [],
   "source": [
    "from sklearn.feature_extraction.text import CountVectorizer\n",
    "cv = CountVectorizer(max_features=1000,stop_words='english')"
   ]
  },
  {
   "cell_type": "code",
   "execution_count": 27,
   "metadata": {},
   "outputs": [],
   "source": [
    "vectors = cv.fit_transform(movies['tags']).toarray()"
   ]
  },
  {
   "cell_type": "code",
   "execution_count": 28,
   "metadata": {},
   "outputs": [
    {
     "data": {
      "text/plain": [
       "array([[0, 0, 0, ..., 0, 0, 0],\n",
       "       [0, 0, 0, ..., 0, 0, 0],\n",
       "       [0, 0, 0, ..., 0, 0, 0],\n",
       "       ...,\n",
       "       [0, 0, 0, ..., 0, 0, 0],\n",
       "       [0, 0, 0, ..., 0, 0, 0],\n",
       "       [0, 0, 0, ..., 1, 0, 0]], dtype=int64)"
      ]
     },
     "execution_count": 28,
     "metadata": {},
     "output_type": "execute_result"
    }
   ],
   "source": [
    "vectors"
   ]
  },
  {
   "cell_type": "code",
   "execution_count": 29,
   "metadata": {},
   "outputs": [],
   "source": [
    "from sklearn.metrics.pairwise import cosine_similarity"
   ]
  },
  {
   "cell_type": "code",
   "execution_count": 30,
   "metadata": {},
   "outputs": [],
   "source": [
    "similarity = cosine_similarity(vectors)"
   ]
  },
  {
   "cell_type": "code",
   "execution_count": 36,
   "metadata": {},
   "outputs": [
    {
     "data": {
      "text/plain": [
       "[(1233, 0.3367876570272817),\n",
       " (4807, 0.32025630761017426),\n",
       " (1951, 0.3110855084191276),\n",
       " (700, 0.3042903097250923),\n",
       " (2159, 0.29012942659282975),\n",
       " (269, 0.28867513459481287),\n",
       " (1185, 0.28867513459481287),\n",
       " (2725, 0.280056016805602),\n",
       " (1470, 0.27216552697590873),\n",
       " (8, 0.2668802563418119),\n",
       " (1241, 0.2649064714130087),\n",
       " (2540, 0.2649064714130087),\n",
       " (6223, 0.2581988897471611),\n",
       " (4161, 0.25660011963983365),\n",
       " (6258, 0.25660011963983365),\n",
       " (1928, 0.25310879886733306),\n",
       " (6639, 0.24845199749997665),\n",
       " (529, 0.24845199749997662),\n",
       " (4512, 0.24845199749997662)]"
      ]
     },
     "execution_count": 36,
     "metadata": {},
     "output_type": "execute_result"
    }
   ],
   "source": [
    "sorted(list(enumerate(similarity[0])),reverse=True,key=lambda x:x[1])[1:20]\n"
   ]
  },
  {
   "cell_type": "code",
   "execution_count": 79,
   "metadata": {},
   "outputs": [],
   "source": [
    "def recommend(movie):\n",
    "    movie_index = movies[movies['Title'] == movie].index[0]\n",
    "    distances = similarity[movie_index]\n",
    "    movies_list = sorted(list(enumerate(distances)),reverse=True,key=lambda x:x[1])[1:20]\n",
    "\n",
    "    for i in movies_list:\n",
    "        print(movies.iloc[i[0]].Title)\n",
    "    # return"
   ]
  },
  {
   "cell_type": "code",
   "execution_count": 1,
   "metadata": {},
   "outputs": [],
   "source": [
    "import pickle"
   ]
  },
  {
   "cell_type": "code",
   "execution_count": 4,
   "metadata": {},
   "outputs": [
    {
     "ename": "NameError",
     "evalue": "name 'similarity' is not defined",
     "output_type": "error",
     "traceback": [
      "\u001b[1;31m---------------------------------------------------------------------------\u001b[0m",
      "\u001b[1;31mNameError\u001b[0m                                 Traceback (most recent call last)",
      "\u001b[1;32m<ipython-input-4-5498a13a79a3>\u001b[0m in \u001b[0;36m<module>\u001b[1;34m\u001b[0m\n\u001b[1;32m----> 1\u001b[1;33m \u001b[0mpickle\u001b[0m\u001b[1;33m.\u001b[0m\u001b[0mdump\u001b[0m\u001b[1;33m(\u001b[0m\u001b[0msimilarity\u001b[0m\u001b[1;33m,\u001b[0m\u001b[0mopen\u001b[0m\u001b[1;33m(\u001b[0m\u001b[1;34m'similarity.pkl'\u001b[0m\u001b[1;33m,\u001b[0m\u001b[1;34m'wb'\u001b[0m\u001b[1;33m)\u001b[0m\u001b[1;33m)\u001b[0m\u001b[1;33m\u001b[0m\u001b[1;33m\u001b[0m\u001b[0m\n\u001b[0m",
      "\u001b[1;31mNameError\u001b[0m: name 'similarity' is not defined"
     ]
    }
   ],
   "source": []
  }
 ],
 "metadata": {
  "interpreter": {
   "hash": "7bce75f5df99c11616f3e7992f14221ac389093d41e5f692e0f419ec57965803"
  },
  "kernelspec": {
   "display_name": "Python 3.8.8 ('base')",
   "language": "python",
   "name": "python3"
  },
  "language_info": {
   "codemirror_mode": {
    "name": "ipython",
    "version": 3
   },
   "file_extension": ".py",
   "mimetype": "text/x-python",
   "name": "python",
   "nbconvert_exporter": "python",
   "pygments_lexer": "ipython3",
   "version": "3.8.8"
  },
  "orig_nbformat": 4
 },
 "nbformat": 4,
 "nbformat_minor": 2
}
